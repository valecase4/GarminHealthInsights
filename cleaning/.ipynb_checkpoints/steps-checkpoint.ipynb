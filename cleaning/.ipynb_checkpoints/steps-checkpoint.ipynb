{
 "cells": [
  {
   "cell_type": "markdown",
   "id": "6953b679-614b-4449-ae4b-80aaf38e9f57",
   "metadata": {},
   "source": [
    "# Preliminary Data Exploration\n",
    "### Steps Dataset"
   ]
  },
  {
   "cell_type": "markdown",
   "id": "6af5e494-2b09-491c-918e-ff36b94e4f25",
   "metadata": {},
   "source": [
    "##### 1. Verify the Structure"
   ]
  },
  {
   "cell_type": "code",
   "execution_count": 1,
   "id": "234c8ff1-98a1-42fd-9ab9-b5fe1433814b",
   "metadata": {},
   "outputs": [],
   "source": [
    "import pandas as pd"
   ]
  },
  {
   "cell_type": "code",
   "execution_count": 3,
   "id": "802b8b47-2d14-45ad-8768-78a4f5d1ed70",
   "metadata": {},
   "outputs": [
    {
     "name": "stdout",
     "output_type": "stream",
     "text": [
      "<class 'pandas.core.frame.DataFrame'>\n",
      "RangeIndex: 17 entries, 0 to 16\n",
      "Data columns (total 2 columns):\n",
      " #   Column       Non-Null Count  Dtype \n",
      "---  ------       --------------  ----- \n",
      " 0   date         17 non-null     object\n",
      " 1   steps_taken  17 non-null     int64 \n",
      "dtypes: int64(1), object(1)\n",
      "memory usage: 404.0+ bytes\n"
     ]
    }
   ],
   "source": [
    "steps = pd.read_csv(\"data/raw/steps/steps.csv\")\n",
    "\n",
    "steps.info()"
   ]
  },
  {
   "cell_type": "code",
   "execution_count": 4,
   "id": "1dd506c3-06ff-4821-9058-d68602885c0e",
   "metadata": {},
   "outputs": [
    {
     "data": {
      "text/html": [
       "<div>\n",
       "<style scoped>\n",
       "    .dataframe tbody tr th:only-of-type {\n",
       "        vertical-align: middle;\n",
       "    }\n",
       "\n",
       "    .dataframe tbody tr th {\n",
       "        vertical-align: top;\n",
       "    }\n",
       "\n",
       "    .dataframe thead th {\n",
       "        text-align: right;\n",
       "    }\n",
       "</style>\n",
       "<table border=\"1\" class=\"dataframe\">\n",
       "  <thead>\n",
       "    <tr style=\"text-align: right;\">\n",
       "      <th></th>\n",
       "      <th>date</th>\n",
       "      <th>steps_taken</th>\n",
       "    </tr>\n",
       "  </thead>\n",
       "  <tbody>\n",
       "    <tr>\n",
       "      <th>0</th>\n",
       "      <td>2024-12-21</td>\n",
       "      <td>4664</td>\n",
       "    </tr>\n",
       "    <tr>\n",
       "      <th>1</th>\n",
       "      <td>2024-12-22</td>\n",
       "      <td>16819</td>\n",
       "    </tr>\n",
       "    <tr>\n",
       "      <th>2</th>\n",
       "      <td>2024-12-23</td>\n",
       "      <td>13460</td>\n",
       "    </tr>\n",
       "    <tr>\n",
       "      <th>3</th>\n",
       "      <td>2024-12-24</td>\n",
       "      <td>10506</td>\n",
       "    </tr>\n",
       "    <tr>\n",
       "      <th>4</th>\n",
       "      <td>2024-12-25</td>\n",
       "      <td>2804</td>\n",
       "    </tr>\n",
       "  </tbody>\n",
       "</table>\n",
       "</div>"
      ],
      "text/plain": [
       "         date  steps_taken\n",
       "0  2024-12-21         4664\n",
       "1  2024-12-22        16819\n",
       "2  2024-12-23        13460\n",
       "3  2024-12-24        10506\n",
       "4  2024-12-25         2804"
      ]
     },
     "execution_count": 4,
     "metadata": {},
     "output_type": "execute_result"
    }
   ],
   "source": [
    "steps.head()"
   ]
  },
  {
   "cell_type": "markdown",
   "id": "0be75dd9-3ba4-47ef-a374-0383f089a388",
   "metadata": {},
   "source": [
    "##### 2. Identify Missing Values"
   ]
  },
  {
   "cell_type": "code",
   "execution_count": 5,
   "id": "042fe1ec-9d7d-444e-bd72-9250c7df8501",
   "metadata": {},
   "outputs": [
    {
     "data": {
      "text/plain": [
       "date           0\n",
       "steps_taken    0\n",
       "dtype: int64"
      ]
     },
     "execution_count": 5,
     "metadata": {},
     "output_type": "execute_result"
    }
   ],
   "source": [
    "steps.isnull().sum()"
   ]
  },
  {
   "cell_type": "markdown",
   "id": "f14422f2-ef22-4c35-9e95-9fb3651d1282",
   "metadata": {},
   "source": [
    "##### 3. Handle Missing Values"
   ]
  },
  {
   "cell_type": "markdown",
   "id": "ef18e83d-7a05-435e-b24c-b0390e4aa0f9",
   "metadata": {},
   "source": [
    "This dataset doesn't have missing values."
   ]
  },
  {
   "cell_type": "markdown",
   "id": "4417906c-4adc-4fb6-ac53-39e97af10e42",
   "metadata": {},
   "source": [
    "##### 4. Correcting Formats and Data Types\n",
    "\n",
    "We ensure `date` column to be `datetime` format and `steps_taken` to be `integer`"
   ]
  },
  {
   "cell_type": "code",
   "execution_count": 8,
   "id": "8fdedfe6-f5f2-45bb-a42e-4f27fdca9f4b",
   "metadata": {},
   "outputs": [
    {
     "data": {
      "text/plain": [
       "date           datetime64[ns]\n",
       "steps_taken             int64\n",
       "dtype: object"
      ]
     },
     "execution_count": 8,
     "metadata": {},
     "output_type": "execute_result"
    }
   ],
   "source": [
    "steps['date'] = pd.to_datetime(steps['date'])\n",
    "\n",
    "steps.dtypes"
   ]
  },
  {
   "cell_type": "markdown",
   "id": "72d5846b-6269-43d3-b449-5c5da7f2deca",
   "metadata": {},
   "source": [
    "##### 5. Identify Outliers"
   ]
  },
  {
   "cell_type": "code",
   "execution_count": null,
   "id": "10150e43-c30a-4143-984d-041ed50bcda0",
   "metadata": {},
   "outputs": [],
   "source": []
  }
 ],
 "metadata": {
  "kernelspec": {
   "display_name": "Garmin",
   "language": "python",
   "name": "garminhealthinsights"
  },
  "language_info": {
   "codemirror_mode": {
    "name": "ipython",
    "version": 3
   },
   "file_extension": ".py",
   "mimetype": "text/x-python",
   "name": "python",
   "nbconvert_exporter": "python",
   "pygments_lexer": "ipython3",
   "version": "3.13.1"
  }
 },
 "nbformat": 4,
 "nbformat_minor": 5
}
