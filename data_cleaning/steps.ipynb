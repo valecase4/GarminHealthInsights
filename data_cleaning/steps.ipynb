{
 "cells": [
  {
   "cell_type": "markdown",
   "id": "6953b679-614b-4449-ae4b-80aaf38e9f57",
   "metadata": {},
   "source": [
    "# Preliminary Data Exploration\n",
    "### Steps Dataset"
   ]
  },
  {
   "cell_type": "markdown",
   "id": "6af5e494-2b09-491c-918e-ff36b94e4f25",
   "metadata": {},
   "source": [
    "##### 1. Verify the Structure"
   ]
  },
  {
   "cell_type": "code",
   "execution_count": 50,
   "id": "234c8ff1-98a1-42fd-9ab9-b5fe1433814b",
   "metadata": {},
   "outputs": [],
   "source": [
    "import pandas as pd\n",
    "import matplotlib.pyplot as plt\n",
    "import os"
   ]
  },
  {
   "cell_type": "code",
   "execution_count": 31,
   "id": "802b8b47-2d14-45ad-8768-78a4f5d1ed70",
   "metadata": {},
   "outputs": [
    {
     "name": "stdout",
     "output_type": "stream",
     "text": [
      "<class 'pandas.core.frame.DataFrame'>\n",
      "RangeIndex: 18 entries, 0 to 17\n",
      "Data columns (total 2 columns):\n",
      " #   Column       Non-Null Count  Dtype \n",
      "---  ------       --------------  ----- \n",
      " 0   date         18 non-null     object\n",
      " 1   steps_taken  18 non-null     int64 \n",
      "dtypes: int64(1), object(1)\n",
      "memory usage: 420.0+ bytes\n"
     ]
    }
   ],
   "source": [
    "steps = pd.read_csv(\"../data/raw/steps/steps.csv\")\n",
    "\n",
    "steps.info()"
   ]
  },
  {
   "cell_type": "code",
   "execution_count": 32,
   "id": "1dd506c3-06ff-4821-9058-d68602885c0e",
   "metadata": {},
   "outputs": [
    {
     "data": {
      "text/html": [
       "<div>\n",
       "<style scoped>\n",
       "    .dataframe tbody tr th:only-of-type {\n",
       "        vertical-align: middle;\n",
       "    }\n",
       "\n",
       "    .dataframe tbody tr th {\n",
       "        vertical-align: top;\n",
       "    }\n",
       "\n",
       "    .dataframe thead th {\n",
       "        text-align: right;\n",
       "    }\n",
       "</style>\n",
       "<table border=\"1\" class=\"dataframe\">\n",
       "  <thead>\n",
       "    <tr style=\"text-align: right;\">\n",
       "      <th></th>\n",
       "      <th>date</th>\n",
       "      <th>steps_taken</th>\n",
       "    </tr>\n",
       "  </thead>\n",
       "  <tbody>\n",
       "    <tr>\n",
       "      <th>0</th>\n",
       "      <td>2024-12-21</td>\n",
       "      <td>4664</td>\n",
       "    </tr>\n",
       "    <tr>\n",
       "      <th>1</th>\n",
       "      <td>2024-12-22</td>\n",
       "      <td>16819</td>\n",
       "    </tr>\n",
       "    <tr>\n",
       "      <th>2</th>\n",
       "      <td>2024-12-23</td>\n",
       "      <td>13460</td>\n",
       "    </tr>\n",
       "    <tr>\n",
       "      <th>3</th>\n",
       "      <td>2024-12-24</td>\n",
       "      <td>10506</td>\n",
       "    </tr>\n",
       "    <tr>\n",
       "      <th>4</th>\n",
       "      <td>2024-12-25</td>\n",
       "      <td>2804</td>\n",
       "    </tr>\n",
       "  </tbody>\n",
       "</table>\n",
       "</div>"
      ],
      "text/plain": [
       "         date  steps_taken\n",
       "0  2024-12-21         4664\n",
       "1  2024-12-22        16819\n",
       "2  2024-12-23        13460\n",
       "3  2024-12-24        10506\n",
       "4  2024-12-25         2804"
      ]
     },
     "execution_count": 32,
     "metadata": {},
     "output_type": "execute_result"
    }
   ],
   "source": [
    "steps.head()"
   ]
  },
  {
   "cell_type": "markdown",
   "id": "0be75dd9-3ba4-47ef-a374-0383f089a388",
   "metadata": {},
   "source": [
    "##### 2. Identify Missing Values"
   ]
  },
  {
   "cell_type": "code",
   "execution_count": 33,
   "id": "042fe1ec-9d7d-444e-bd72-9250c7df8501",
   "metadata": {},
   "outputs": [
    {
     "data": {
      "text/plain": [
       "date           0\n",
       "steps_taken    0\n",
       "dtype: int64"
      ]
     },
     "execution_count": 33,
     "metadata": {},
     "output_type": "execute_result"
    }
   ],
   "source": [
    "steps.isnull().sum()"
   ]
  },
  {
   "cell_type": "markdown",
   "id": "f14422f2-ef22-4c35-9e95-9fb3651d1282",
   "metadata": {},
   "source": [
    "##### 3. Handle Missing Values"
   ]
  },
  {
   "cell_type": "markdown",
   "id": "ef18e83d-7a05-435e-b24c-b0390e4aa0f9",
   "metadata": {},
   "source": [
    "This dataset doesn't have missing values."
   ]
  },
  {
   "cell_type": "markdown",
   "id": "4417906c-4adc-4fb6-ac53-39e97af10e42",
   "metadata": {},
   "source": [
    "##### 4. Correcting Formats and Data Types\n",
    "\n",
    "We ensure `date` column to be `datetime` format and `steps_taken` to be `integer`"
   ]
  },
  {
   "cell_type": "code",
   "execution_count": 34,
   "id": "8fdedfe6-f5f2-45bb-a42e-4f27fdca9f4b",
   "metadata": {},
   "outputs": [
    {
     "data": {
      "text/plain": [
       "date           datetime64[ns]\n",
       "steps_taken             int64\n",
       "dtype: object"
      ]
     },
     "execution_count": 34,
     "metadata": {},
     "output_type": "execute_result"
    }
   ],
   "source": [
    "steps['date'] = pd.to_datetime(steps['date'])\n",
    "\n",
    "steps.dtypes"
   ]
  },
  {
   "cell_type": "markdown",
   "id": "72d5846b-6269-43d3-b449-5c5da7f2deca",
   "metadata": {},
   "source": [
    "##### 5. Identify Outliers\n",
    "\n",
    "##### IQR: Interquartile Range\n",
    "IQR (Interquartile Range) is defined as the difference between the 75th percentile and 25th percentiles of the data.\n",
    "\n",
    "References: https://en.wikipedia.org/wiki/Interquartile_range\n",
    "\n",
    "Compute Q1 and Q3, using ``.quantile()`` function provided by Pandas. Particularly, we use the ``linear`` method for interpolation in identifying Q1 and Q3. How does linear interpolation work?\n",
    " \n",
    "**Step 1: Calculate Position (P)** <br>\n",
    "The position **P** of the quantile in the ordered data is computed as:\n",
    "$$\n",
    "P = (n - 1) \\cdot q + 1\n",
    "$$\n",
    "Where:\n",
    "- **n**: Total number of data points\n",
    "- **q**: Desired quantile (e.g., \\( q = 0.25 \\) for Q1, \\( q = 0.75 \\) for Q3)\n",
    "\n",
    "The result **P** determines the position of the quantile in the sorted data:\n",
    "- If **P** is an **integer**, the quantile corresponds directly to the value at position \\( P \\).\n",
    "- If **P** is **not an integer**, linear interpolation is used between the two closest values.\n",
    "\n",
    "-----\n",
    "\n",
    "**Step 2: Linear Interpolation for Non-Integer Positions**\n",
    "\n",
    "If **P** is not an integer, the quantile is computed as:\n",
    "$$\n",
    "\\text{quantile} = v_i + (v_{i+1} - v_i) \\cdot (P - i)\n",
    "$$\n",
    "\n",
    "-----\n",
    "\n",
    "References: https://pandas.pydata.org/docs/reference/api/pandas.DataFrame.quantile.html"
   ]
  },
  {
   "cell_type": "code",
   "execution_count": 35,
   "id": "10150e43-c30a-4143-984d-041ed50bcda0",
   "metadata": {},
   "outputs": [
    {
     "data": {
      "text/plain": [
       "17      168\n",
       "4      2804\n",
       "15     4218\n",
       "0      4664\n",
       "12     5350\n",
       "16     7175\n",
       "14     7958\n",
       "13     8135\n",
       "6      8250\n",
       "3     10506\n",
       "11    10803\n",
       "5     11066\n",
       "2     13460\n",
       "7     13875\n",
       "1     16819\n",
       "9     17121\n",
       "10    17157\n",
       "8     20076\n",
       "Name: steps_taken, dtype: int64"
      ]
     },
     "execution_count": 35,
     "metadata": {},
     "output_type": "execute_result"
    }
   ],
   "source": [
    "ordered_steps = steps['steps_taken'].sort_values(ascending=True)\n",
    "ordered_steps"
   ]
  },
  {
   "cell_type": "code",
   "execution_count": 36,
   "id": "2b78d174-db48-4901-93aa-61d0fa196206",
   "metadata": {},
   "outputs": [
    {
     "name": "stdout",
     "output_type": "stream",
     "text": [
      "5806.25 13771.25\n"
     ]
    }
   ],
   "source": [
    "Q1 = ordered_steps.quantile(0.25, interpolation='linear')\n",
    "Q3 = ordered_steps.quantile(0.75, interpolation='linear')\n",
    "print(Q1, Q3)"
   ]
  },
  {
   "cell_type": "code",
   "execution_count": 37,
   "id": "2f78ea6e-a88b-4af8-b12a-c737cb477485",
   "metadata": {},
   "outputs": [
    {
     "name": "stdout",
     "output_type": "stream",
     "text": [
      "7965.0\n"
     ]
    }
   ],
   "source": [
    "IQR = Q3 - Q1\n",
    "print(IQR)"
   ]
  },
  {
   "cell_type": "markdown",
   "id": "bbc7bf29-fef3-4c45-9012-875ff065feda",
   "metadata": {},
   "source": [
    "**IQR to identify outliers in data**\n",
    "\n",
    "IQR is often used to find outliers in data. Outliers here are defined as observations that fall below Q1 − 1.5 IQR or above Q3 + 1.5 IQR. \n",
    "\n",
    "References: https://en.wikipedia.org/wiki/Interquartile_range"
   ]
  },
  {
   "cell_type": "code",
   "execution_count": 38,
   "id": "e2473cc2-e495-4c9b-b0ff-b270a79e4e90",
   "metadata": {},
   "outputs": [
    {
     "name": "stdout",
     "output_type": "stream",
     "text": [
      "Lower Bound: -6141.25, Upper Bound: 25718.75\n"
     ]
    }
   ],
   "source": [
    "lower_bound = Q1 - 1.5 * IQR\n",
    "upper_bound = Q3 + 1.5 * IQR\n",
    "\n",
    "print(f\"Lower Bound: {lower_bound}, Upper Bound: {upper_bound}\")"
   ]
  },
  {
   "cell_type": "markdown",
   "id": "554dc0da-1c3e-4b01-ab33-ebf02a387157",
   "metadata": {},
   "source": [
    "Lower Bound is a negative number: let's remove the last row from ``steps`` dataset. The last row represents the number of steps taken today."
   ]
  },
  {
   "cell_type": "code",
   "execution_count": 39,
   "id": "745d4e68-11ee-4445-97bf-321586d6c887",
   "metadata": {},
   "outputs": [],
   "source": [
    "filtered_steps = steps.drop(steps.tail(1).index)\n",
    "ordered_filtered_steps = filtered_steps['steps_taken'].sort_values(ascending=True)"
   ]
  },
  {
   "cell_type": "code",
   "execution_count": 40,
   "id": "3657d572-b311-417c-8cdb-8882f744cd98",
   "metadata": {},
   "outputs": [
    {
     "data": {
      "text/plain": [
       "4      2804\n",
       "15     4218\n",
       "0      4664\n",
       "12     5350\n",
       "16     7175\n",
       "14     7958\n",
       "13     8135\n",
       "6      8250\n",
       "3     10506\n",
       "11    10803\n",
       "5     11066\n",
       "2     13460\n",
       "7     13875\n",
       "1     16819\n",
       "9     17121\n",
       "10    17157\n",
       "8     20076\n",
       "Name: steps_taken, dtype: int64"
      ]
     },
     "execution_count": 40,
     "metadata": {},
     "output_type": "execute_result"
    }
   ],
   "source": [
    "ordered_filtered_steps"
   ]
  },
  {
   "cell_type": "code",
   "execution_count": 41,
   "id": "cb2adb46-af4b-4737-b4ff-48b6c906a4e2",
   "metadata": {},
   "outputs": [
    {
     "name": "stdout",
     "output_type": "stream",
     "text": [
      "7175.0 13875.0\n"
     ]
    }
   ],
   "source": [
    "Q1 = ordered_filtered_steps.quantile(0.25, interpolation='linear')\n",
    "Q3 = ordered_filtered_steps.quantile(0.75, interpolation='linear')\n",
    "print(Q1, Q3)"
   ]
  },
  {
   "cell_type": "code",
   "execution_count": 42,
   "id": "49604c0c-0f32-4bc3-a656-1bfd2e98b1d8",
   "metadata": {},
   "outputs": [
    {
     "name": "stdout",
     "output_type": "stream",
     "text": [
      "6700.0\n"
     ]
    }
   ],
   "source": [
    "IQR = Q3 - Q1\n",
    "print(IQR)"
   ]
  },
  {
   "cell_type": "code",
   "execution_count": 43,
   "id": "82cf9200-3a2f-4ae2-9eee-a8f669049d24",
   "metadata": {},
   "outputs": [
    {
     "name": "stdout",
     "output_type": "stream",
     "text": [
      "Lower Bound: -2875.0, Upper Bound: 23925.0\n"
     ]
    }
   ],
   "source": [
    "lower_bound = Q1 - 1.5 * IQR\n",
    "upper_bound = Q3 + 1.5 * IQR\n",
    "\n",
    "print(f\"Lower Bound: {lower_bound}, Upper Bound: {upper_bound}\")"
   ]
  },
  {
   "cell_type": "markdown",
   "id": "1e8ee65d-e4ee-4bc6-b081-da7fde107213",
   "metadata": {},
   "source": [
    "Lower Bound is a negative number again."
   ]
  },
  {
   "cell_type": "code",
   "execution_count": 44,
   "id": "d24e34da-508a-4999-91d3-ff27abbb0006",
   "metadata": {},
   "outputs": [
    {
     "name": "stdout",
     "output_type": "stream",
     "text": [
      "Lower Bound updated: 100\n"
     ]
    }
   ],
   "source": [
    "lower_bound = max(100, Q1 - 1.5 * IQR)\n",
    "print(f\"Lower Bound updated: {lower_bound}\")"
   ]
  },
  {
   "cell_type": "code",
   "execution_count": 45,
   "id": "2b2d15af-f949-4dcd-880b-feddecadd616",
   "metadata": {},
   "outputs": [
    {
     "name": "stdout",
     "output_type": "stream",
     "text": [
      "Outliers detected:\n",
      "0\n"
     ]
    }
   ],
   "source": [
    "outliers = filtered_steps[(filtered_steps['steps_taken'] < lower_bound) | (filtered_steps['steps_taken'] > upper_bound)]\n",
    "print(\"Outliers detected:\")\n",
    "print(len(outliers))"
   ]
  },
  {
   "cell_type": "markdown",
   "id": "bafb8dc6-df34-4ce9-a754-640c51781c65",
   "metadata": {},
   "source": [
    "##### 6. Visualize a boxplot"
   ]
  },
  {
   "cell_type": "code",
   "execution_count": 46,
   "id": "9281c26d-79ec-4116-82c1-05d7ffb4e3b2",
   "metadata": {},
   "outputs": [
    {
     "data": {
      "image/png": "[encoded data removed]",
      "text/plain": [
       "<Figure size 640x480 with 1 Axes>"
      ]
     },
     "metadata": {},
     "output_type": "display_data"
    }
   ],
   "source": [
    "median_value = filtered_steps['steps_taken'].median()\n",
    "\n",
    "plt.boxplot(\n",
    "    filtered_steps['steps_taken'],\n",
    "    patch_artist=True,\n",
    "    boxprops=dict(facecolor='skyblue', color='blue'),\n",
    "    medianprops=dict(color='red',linewidth=2),\n",
    "    whiskerprops=dict(color='blue'),\n",
    "    capprops=dict(color='blue'),\n",
    "    flierprops=dict(markerfacecolor='orange', markeredgecolor='red', markersize=8)\n",
    ")\n",
    "\n",
    "plt.axhline(median_value, color='red', linestyle='--', linewidth=1, alpha=0.7)\n",
    "\n",
    "plt.text(\n",
    "    x=1.2,\n",
    "    y=median_value+500,\n",
    "    s=f\"Median: {int(median_value)}\",\n",
    "    color='red', \n",
    "    fontsize=10,\n",
    "    verticalalignment='center',\n",
    "    horizontalalignment='left'\n",
    ")\n",
    "\n",
    "plt.title(\"Daily Steps Distribution: Identifying Outliers\", fontsize=14, fontweight='bold')\n",
    "plt.ylabel(\"Number of Steps per Day\", fontsize=12)\n",
    "plt.grid(axis='y', linestyle='--', alpha=0.7)\n",
    "plt.show()"
   ]
  },
  {
   "cell_type": "markdown",
   "id": "f502dcac-34ed-4d26-8b44-44da5c78d039",
   "metadata": {},
   "source": [
    "##### 7. Check for Duplicate Data"
   ]
  },
  {
   "cell_type": "code",
   "execution_count": 47,
   "id": "f1cd9eb6-6d3a-48fb-b24a-2ccff100ac62",
   "metadata": {},
   "outputs": [
    {
     "name": "stdout",
     "output_type": "stream",
     "text": [
      "Duplicate Data Detected:\n",
      "0\n"
     ]
    }
   ],
   "source": [
    "date_counts = filtered_steps['date'].value_counts()\n",
    "duplicate_data = date_counts[date_counts > 1]\n",
    "print(\"Duplicate Data Detected:\")\n",
    "print(len(duplicate_data))"
   ]
  },
  {
   "cell_type": "markdown",
   "id": "551d89c3-9a54-445d-8494-23eef75713d0",
   "metadata": {},
   "source": [
    "##### 8. Identify Missing Dates"
   ]
  },
  {
   "cell_type": "code",
   "execution_count": 48,
   "id": "52908ac1-d5ea-4905-98f3-36939cfde719",
   "metadata": {},
   "outputs": [
    {
     "name": "stdout",
     "output_type": "stream",
     "text": [
      "DatetimeIndex(['2024-12-21', '2024-12-22', '2024-12-23', '2024-12-24',\n",
      "               '2024-12-25', '2024-12-26', '2024-12-27', '2024-12-28',\n",
      "               '2024-12-29', '2024-12-30', '2024-12-31', '2025-01-01',\n",
      "               '2025-01-02', '2025-01-03', '2025-01-04', '2025-01-05',\n",
      "               '2025-01-06'],\n",
      "              dtype='datetime64[ns]', freq='D')\n"
     ]
    }
   ],
   "source": [
    "start_date = \"2024-12-21\"\n",
    "end_date = \"2025-01-06\"\n",
    "\n",
    "full_date_range = pd.date_range(start=start_date, end=end_date, freq=\"D\")\n",
    "print(full_date_range)"
   ]
  },
  {
   "cell_type": "code",
   "execution_count": 49,
   "id": "c7e7ac38-122a-4d97-89a6-181f85c2743a",
   "metadata": {},
   "outputs": [
    {
     "name": "stdout",
     "output_type": "stream",
     "text": [
      "Missing dates: set()\n",
      "How many missing dates? 0\n"
     ]
    }
   ],
   "source": [
    "dataset_dates = set(filtered_steps['date'])\n",
    "\n",
    "missing_dates = set(full_date_range) - dataset_dates\n",
    "print(f\"Missing dates: {missing_dates}\")\n",
    "print(f\"How many missing dates? {len(missing_dates)}\")"
   ]
  },
  {
   "cell_type": "markdown",
   "id": "cc430491-3228-40e3-a22b-2852eb06c507",
   "metadata": {},
   "source": [
    "##### Cleaning Process Completed: save data as cleaned"
   ]
  },
  {
   "cell_type": "code",
   "execution_count": null,
   "id": "fab2de82-84cd-45a8-9136-92a66d89f4c5",
   "metadata": {},
   "outputs": [],
   "source": [
    "output_dir = \"../data/cleaned/steps\"\n",
    "output_file = os.path.join(outputi)"
   ]
  }
 ],
 "metadata": {
  "kernelspec": {
   "display_name": "Garmin",
   "language": "python",
   "name": "garminhealthinsights"
  },
  "language_info": {
   "codemirror_mode": {
    "name": "ipython",
    "version": 3
   },
   "file_extension": ".py",
   "mimetype": "text/x-python",
   "name": "python",
   "nbconvert_exporter": "python",
   "pygments_lexer": "ipython3",
   "version": "3.13.1"
  }
 },
 "nbformat": 4,
 "nbformat_minor": 5
}
