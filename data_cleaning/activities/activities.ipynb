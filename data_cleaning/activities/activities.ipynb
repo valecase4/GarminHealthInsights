{
 "cells": [
  {
   "cell_type": "markdown",
   "id": "94dfcfdd-10b5-4761-a9af-c673498c9920",
   "metadata": {},
   "source": [
    "# Preliminary Data Exploration\n",
    "### Activities Dataset"
   ]
  },
  {
   "cell_type": "markdown",
   "id": "dfb614cd-c19d-4e96-8fef-747259703fbe",
   "metadata": {},
   "source": [
    "##### 1. Verify the Structure"
   ]
  },
  {
   "cell_type": "code",
   "execution_count": 1,
   "id": "d56c1b64-5be9-4a61-b358-983eebf011bd",
   "metadata": {},
   "outputs": [],
   "source": [
    "import pandas as pd\n",
    "import matplotlib.pyplot as plt\n",
    "import os"
   ]
  },
  {
   "cell_type": "code",
   "execution_count": 2,
   "id": "07cfa864-3535-49cd-81a1-f9f810233fc6",
   "metadata": {},
   "outputs": [
    {
     "name": "stdout",
     "output_type": "stream",
     "text": [
      "<class 'pandas.core.frame.DataFrame'>\n",
      "RangeIndex: 18 entries, 0 to 17\n",
      "Data columns (total 2 columns):\n",
      " #   Column          Non-Null Count  Dtype \n",
      "---  ------          --------------  ----- \n",
      " 0   date            18 non-null     object\n",
      " 1   activity (Y/N)  18 non-null     object\n",
      "dtypes: object(2)\n",
      "memory usage: 420.0+ bytes\n"
     ]
    }
   ],
   "source": [
    "activities = pd.read_csv(\"../../data/raw/activities/activities.csv\")\n",
    "\n",
    "activities.info()"
   ]
  },
  {
   "cell_type": "code",
   "execution_count": 3,
   "id": "cea6e431-fc54-4de9-8ece-864a7e71d65b",
   "metadata": {},
   "outputs": [
    {
     "data": {
      "text/html": [
       "<div>\n",
       "<style scoped>\n",
       "    .dataframe tbody tr th:only-of-type {\n",
       "        vertical-align: middle;\n",
       "    }\n",
       "\n",
       "    .dataframe tbody tr th {\n",
       "        vertical-align: top;\n",
       "    }\n",
       "\n",
       "    .dataframe thead th {\n",
       "        text-align: right;\n",
       "    }\n",
       "</style>\n",
       "<table border=\"1\" class=\"dataframe\">\n",
       "  <thead>\n",
       "    <tr style=\"text-align: right;\">\n",
       "      <th></th>\n",
       "      <th>date</th>\n",
       "      <th>activity (Y/N)</th>\n",
       "    </tr>\n",
       "  </thead>\n",
       "  <tbody>\n",
       "    <tr>\n",
       "      <th>0</th>\n",
       "      <td>2024-12-21</td>\n",
       "      <td>No</td>\n",
       "    </tr>\n",
       "    <tr>\n",
       "      <th>1</th>\n",
       "      <td>2024-12-22</td>\n",
       "      <td>No</td>\n",
       "    </tr>\n",
       "    <tr>\n",
       "      <th>2</th>\n",
       "      <td>2024-12-23</td>\n",
       "      <td>Yes</td>\n",
       "    </tr>\n",
       "    <tr>\n",
       "      <th>3</th>\n",
       "      <td>2024-12-24</td>\n",
       "      <td>No</td>\n",
       "    </tr>\n",
       "    <tr>\n",
       "      <th>4</th>\n",
       "      <td>2024-12-25</td>\n",
       "      <td>No</td>\n",
       "    </tr>\n",
       "  </tbody>\n",
       "</table>\n",
       "</div>"
      ],
      "text/plain": [
       "         date activity (Y/N)\n",
       "0  2024-12-21             No\n",
       "1  2024-12-22             No\n",
       "2  2024-12-23            Yes\n",
       "3  2024-12-24             No\n",
       "4  2024-12-25             No"
      ]
     },
     "execution_count": 3,
     "metadata": {},
     "output_type": "execute_result"
    }
   ],
   "source": [
    "activities.head()"
   ]
  },
  {
   "cell_type": "markdown",
   "id": "f2d90388-c7da-4ca5-bd7a-18eec3e53ca1",
   "metadata": {},
   "source": [
    "##### 2. Identify Missing Values"
   ]
  },
  {
   "cell_type": "code",
   "execution_count": 5,
   "id": "3b8d3b59-3f84-4f46-a536-a2548ceff1be",
   "metadata": {},
   "outputs": [
    {
     "data": {
      "text/plain": [
       "date              0\n",
       "activity (Y/N)    0\n",
       "dtype: int64"
      ]
     },
     "execution_count": 5,
     "metadata": {},
     "output_type": "execute_result"
    }
   ],
   "source": [
    "activities.isnull().sum()"
   ]
  },
  {
   "cell_type": "markdown",
   "id": "3f82479c-4007-484a-8b8a-79f86f45bea9",
   "metadata": {},
   "source": [
    "**Remove the dates after 2025-06-01 from the analysis**"
   ]
  },
  {
   "cell_type": "markdown",
   "id": "f0ef25c2-25f2-4e60-817b-432a68bdc87a",
   "metadata": {},
   "source": [
    "##### 3. Correct Formats and Data Types"
   ]
  },
  {
   "cell_type": "code",
   "execution_count": 7,
   "id": "0579fc05-779d-481f-bf4e-d953c2562195",
   "metadata": {},
   "outputs": [
    {
     "name": "stdout",
     "output_type": "stream",
     "text": [
      "         date activity (Y/N)\n",
      "0  2024-12-21             No\n",
      "1  2024-12-22             No\n",
      "2  2024-12-23            Yes\n",
      "3  2024-12-24             No\n",
      "4  2024-12-25             No\n",
      "5  2024-12-26            Yes\n",
      "6  2024-12-27            Yes\n",
      "7  2024-12-28             No\n",
      "8  2024-12-29            Yes\n",
      "9  2024-12-30            Yes\n",
      "10 2024-12-31             No\n",
      "11 2025-01-01             No\n",
      "12 2025-01-02            Yes\n",
      "13 2025-01-03            Yes\n",
      "14 2025-01-04             No\n",
      "15 2025-01-05            Yes\n",
      "16 2025-01-06            Yes\n"
     ]
    }
   ],
   "source": [
    "activities['date'] = pd.to_datetime(activities['date'])\n",
    "\n",
    "# remove all dates after 2025-06-01\n",
    "date_limit = \"2025-01-06\"\n",
    "\n",
    "filtered_activities = activities[activities['date'] <= pd.to_datetime(date_limit)]\n",
    "\n",
    "print(filtered_activities)"
   ]
  },
  {
   "cell_type": "code",
   "execution_count": 11,
   "id": "018fb1e0-66b8-4cd9-9e7d-a75fcfb43851",
   "metadata": {},
   "outputs": [
    {
     "name": "stdout",
     "output_type": "stream",
     "text": [
      "['No' 'Yes']\n"
     ]
    }
   ],
   "source": [
    "# Verify the column \"activity (Y/N)\"\n",
    "unique_values = filtered_activities['activity (Y/N)'].unique()\n",
    "print(unique_values)"
   ]
  },
  {
   "cell_type": "markdown",
   "id": "d639c503-1bb9-4b49-a961-1d6c38038847",
   "metadata": {},
   "source": [
    "##### 4. Identify Missing Dates"
   ]
  },
  {
   "cell_type": "code",
   "execution_count": 12,
   "id": "cab0b85c-b7b2-48b2-9e95-a76b7289602b",
   "metadata": {},
   "outputs": [
    {
     "name": "stdout",
     "output_type": "stream",
     "text": [
      "DatetimeIndex(['2024-12-21', '2024-12-22', '2024-12-23', '2024-12-24',\n",
      "               '2024-12-25', '2024-12-26', '2024-12-27', '2024-12-28',\n",
      "               '2024-12-29', '2024-12-30', '2024-12-31', '2025-01-01',\n",
      "               '2025-01-02', '2025-01-03', '2025-01-04', '2025-01-05',\n",
      "               '2025-01-06'],\n",
      "              dtype='datetime64[ns]', freq='D')\n"
     ]
    }
   ],
   "source": [
    "start_date = \"2024-12-21\"\n",
    "end_date = \"2025-01-06\"\n",
    "\n",
    "full_date_range = pd.date_range(start=start_date, end=end_date, freq=\"D\")\n",
    "print(full_date_range)"
   ]
  },
  {
   "cell_type": "code",
   "execution_count": 14,
   "id": "1a307181-a357-47f0-8bda-41ea8e89167d",
   "metadata": {},
   "outputs": [
    {
     "name": "stdout",
     "output_type": "stream",
     "text": [
      "Missing dates: set()\n",
      "How many missing dates? 0\n"
     ]
    }
   ],
   "source": [
    "filtered_dataset_dates = set(filtered_activities['date'])\n",
    "missing_dates = set(full_date_range) - filtered_dataset_dates\n",
    "print(f\"Missing dates: {missing_dates}\")\n",
    "print(f\"How many missing dates? {len(missing_dates)}\")"
   ]
  },
  {
   "cell_type": "markdown",
   "id": "d3907dab-cdfa-41c6-aa78-c0f08f7ea1dd",
   "metadata": {},
   "source": [
    "##### 5. Check for Duplicate Data"
   ]
  },
  {
   "cell_type": "code",
   "execution_count": 17,
   "id": "2d25c5af-d28f-43c4-8f12-17b418dbb866",
   "metadata": {},
   "outputs": [
    {
     "name": "stdout",
     "output_type": "stream",
     "text": [
      "Duplicate Data Detected:\n",
      "0\n"
     ]
    }
   ],
   "source": [
    "date_counts = filtered_activities['date'].value_counts()\n",
    "duplicate_data = date_counts[date_counts > 1]\n",
    "print(\"Duplicate Data Detected:\")\n",
    "print(len(duplicate_data))"
   ]
  },
  {
   "cell_type": "markdown",
   "id": "ffa72ff3-1e84-4dc0-ad9f-d65a1bbdc2e4",
   "metadata": {},
   "source": [
    "##### Cleaning Process Completed: save data as cleaned"
   ]
  },
  {
   "cell_type": "code",
   "execution_count": 16,
   "id": "7f384f1a-3515-4783-93bb-ff62b8ad67a2",
   "metadata": {},
   "outputs": [
    {
     "name": "stdout",
     "output_type": "stream",
     "text": [
      "File saved in: ../../data/cleaned/activities\\activities.csv\n"
     ]
    }
   ],
   "source": [
    "output_dir = \"../../data/cleaned/activities\"\n",
    "output_file = os.path.join(output_dir, \"activities.csv\")\n",
    "\n",
    "os.makedirs(output_dir, exist_ok=True)\n",
    "\n",
    "filtered_activities.to_csv(output_file, index=False)\n",
    "\n",
    "print(f\"File saved in: {output_file}\")"
   ]
  }
 ],
 "metadata": {
  "kernelspec": {
   "display_name": "Garmin",
   "language": "python",
   "name": "garminhealthinsights"
  },
  "language_info": {
   "codemirror_mode": {
    "name": "ipython",
    "version": 3
   },
   "file_extension": ".py",
   "mimetype": "text/x-python",
   "name": "python",
   "nbconvert_exporter": "python",
   "pygments_lexer": "ipython3",
   "version": "3.13.1"
  }
 },
 "nbformat": 4,
 "nbformat_minor": 5
}
