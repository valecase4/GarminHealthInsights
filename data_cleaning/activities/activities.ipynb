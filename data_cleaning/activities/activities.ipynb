{
 "cells": [
  {
   "cell_type": "markdown",
   "id": "94dfcfdd-10b5-4761-a9af-c673498c9920",
   "metadata": {},
   "source": [
    "# Preliminary Data Exploration\n",
    "### Activities Dataset"
   ]
  },
  {
   "cell_type": "markdown",
   "id": "dfb614cd-c19d-4e96-8fef-747259703fbe",
   "metadata": {},
   "source": [
    "##### 1. Verify the Structure"
   ]
  },
  {
   "cell_type": "code",
   "execution_count": 1,
   "id": "d56c1b64-5be9-4a61-b358-983eebf011bd",
   "metadata": {},
   "outputs": [],
   "source": [
    "import pandas as pd\n",
    "import matplotlib.pyplot as plt\n",
    "import os"
   ]
  },
  {
   "cell_type": "code",
   "execution_count": 2,
   "id": "07cfa864-3535-49cd-81a1-f9f810233fc6",
   "metadata": {},
   "outputs": [
    {
     "name": "stdout",
     "output_type": "stream",
     "text": [
      "<class 'pandas.core.frame.DataFrame'>\n",
      "RangeIndex: 18 entries, 0 to 17\n",
      "Data columns (total 2 columns):\n",
      " #   Column          Non-Null Count  Dtype \n",
      "---  ------          --------------  ----- \n",
      " 0   date            18 non-null     object\n",
      " 1   activity (Y/N)  18 non-null     object\n",
      "dtypes: object(2)\n",
      "memory usage: 420.0+ bytes\n"
     ]
    }
   ],
   "source": [
    "activities = pd.read_csv(\"../../data/raw/activities/activities.csv\")\n",
    "\n",
    "activities.info()"
   ]
  },
  {
   "cell_type": "code",
   "execution_count": 3,
   "id": "cea6e431-fc54-4de9-8ece-864a7e71d65b",
   "metadata": {},
   "outputs": [
    {
     "data": {
      "text/html": [
       "<div>\n",
       "<style scoped>\n",
       "    .dataframe tbody tr th:only-of-type {\n",
       "        vertical-align: middle;\n",
       "    }\n",
       "\n",
       "    .dataframe tbody tr th {\n",
       "        vertical-align: top;\n",
       "    }\n",
       "\n",
       "    .dataframe thead th {\n",
       "        text-align: right;\n",
       "    }\n",
       "</style>\n",
       "<table border=\"1\" class=\"dataframe\">\n",
       "  <thead>\n",
       "    <tr style=\"text-align: right;\">\n",
       "      <th></th>\n",
       "      <th>date</th>\n",
       "      <th>activity (Y/N)</th>\n",
       "    </tr>\n",
       "  </thead>\n",
       "  <tbody>\n",
       "    <tr>\n",
       "      <th>0</th>\n",
       "      <td>2024-12-21</td>\n",
       "      <td>No</td>\n",
       "    </tr>\n",
       "    <tr>\n",
       "      <th>1</th>\n",
       "      <td>2024-12-22</td>\n",
       "      <td>No</td>\n",
       "    </tr>\n",
       "    <tr>\n",
       "      <th>2</th>\n",
       "      <td>2024-12-23</td>\n",
       "      <td>Yes</td>\n",
       "    </tr>\n",
       "    <tr>\n",
       "      <th>3</th>\n",
       "      <td>2024-12-24</td>\n",
       "      <td>No</td>\n",
       "    </tr>\n",
       "    <tr>\n",
       "      <th>4</th>\n",
       "      <td>2024-12-25</td>\n",
       "      <td>No</td>\n",
       "    </tr>\n",
       "  </tbody>\n",
       "</table>\n",
       "</div>"
      ],
      "text/plain": [
       "         date activity (Y/N)\n",
       "0  2024-12-21             No\n",
       "1  2024-12-22             No\n",
       "2  2024-12-23            Yes\n",
       "3  2024-12-24             No\n",
       "4  2024-12-25             No"
      ]
     },
     "execution_count": 3,
     "metadata": {},
     "output_type": "execute_result"
    }
   ],
   "source": [
    "activities.head()"
   ]
  },
  {
   "cell_type": "markdown",
   "id": "f2d90388-c7da-4ca5-bd7a-18eec3e53ca1",
   "metadata": {},
   "source": [
    "##### 2. Identify Missing Values or Missing Dates"
   ]
  },
  {
   "cell_type": "code",
   "execution_count": 5,
   "id": "3b8d3b59-3f84-4f46-a536-a2548ceff1be",
   "metadata": {},
   "outputs": [
    {
     "data": {
      "text/plain": [
       "date              0\n",
       "activity (Y/N)    0\n",
       "dtype: int64"
      ]
     },
     "execution_count": 5,
     "metadata": {},
     "output_type": "execute_result"
    }
   ],
   "source": [
    "activities.isnull().sum()"
   ]
  },
  {
   "cell_type": "code",
   "execution_count": 6,
   "id": "dbec7237-d84c-4b42-91e7-b83d6707cdc9",
   "metadata": {},
   "outputs": [
    {
     "name": "stdout",
     "output_type": "stream",
     "text": [
      "DatetimeIndex(['2024-12-21', '2024-12-22', '2024-12-23', '2024-12-24',\n",
      "               '2024-12-25', '2024-12-26', '2024-12-27', '2024-12-28',\n",
      "               '2024-12-29', '2024-12-30', '2024-12-31', '2025-01-01',\n",
      "               '2025-01-02', '2025-01-03', '2025-01-04', '2025-01-05',\n",
      "               '2025-01-06'],\n",
      "              dtype='datetime64[ns]', freq='D')\n"
     ]
    }
   ],
   "source": [
    "start_date = \"2024-12-21\"\n",
    "end_date = \"2025-01-06\"\n",
    "\n",
    "full_date_range = pd.date_range(start=start_date, end=end_date, freq=\"D\")\n",
    "print(full_date_range)"
   ]
  },
  {
   "cell_type": "markdown",
   "id": "3f82479c-4007-484a-8b8a-79f86f45bea9",
   "metadata": {},
   "source": [
    "**Remove the current day from the analysis**"
   ]
  },
  {
   "cell_type": "code",
   "execution_count": null,
   "id": "3f89ea34-9816-4fe4-9792-55d558f851c8",
   "metadata": {},
   "outputs": [],
   "source": []
  }
 ],
 "metadata": {
  "kernelspec": {
   "display_name": "Garmin",
   "language": "python",
   "name": "garminhealthinsights"
  },
  "language_info": {
   "codemirror_mode": {
    "name": "ipython",
    "version": 3
   },
   "file_extension": ".py",
   "mimetype": "text/x-python",
   "name": "python",
   "nbconvert_exporter": "python",
   "pygments_lexer": "ipython3",
   "version": "3.13.1"
  }
 },
 "nbformat": 4,
 "nbformat_minor": 5
}
