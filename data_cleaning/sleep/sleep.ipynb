{
 "cells": [
  {
   "cell_type": "markdown",
   "id": "5942ed1d-34fe-4f74-8884-13a34b0a12b3",
   "metadata": {},
   "source": [
    "# Preliminary Data Exploration"
   ]
  },
  {
   "cell_type": "markdown",
   "id": "cd9de988-9a0d-4b10-ad59-e14b66e7a78e",
   "metadata": {},
   "source": [
    "### Sleep Data"
   ]
  },
  {
   "cell_type": "markdown",
   "id": "89382dc0-9d4a-412e-9aec-cc3a0997b437",
   "metadata": {},
   "source": [
    "**1. Verify the Structure**"
   ]
  },
  {
   "cell_type": "markdown",
   "id": "146f8394-9045-4e65-a7cc-a8736135dd07",
   "metadata": {},
   "source": [
    "The data about sleep is divided into two different datasets. For each day, we have two datasets: the first one collects data about the heart rate values during sleep, the second one collects data about different stages during sleep. Let's see an example.\n",
    "\n",
    "Sample day: 2024-12-27"
   ]
  },
  {
   "cell_type": "code",
   "execution_count": 23,
   "id": "9028277e-052c-4f82-ad39-b4e952601fcb",
   "metadata": {},
   "outputs": [],
   "source": [
    "import pandas as pd\n",
    "import matplotlib.pyplot as plt\n",
    "import os\n",
    "import random"
   ]
  },
  {
   "cell_type": "code",
   "execution_count": 6,
   "id": "8e06b2a6-7c04-4f5e-96a4-c846ee156658",
   "metadata": {},
   "outputs": [],
   "source": [
    "sample_day = '2024-12-27'\n",
    "\n",
    "stages_sleep_directory = \"../../data/raw/sleep/stages\"\n",
    "heart_rates_sleep_directory = \"../../data/raw/sleep/heart_rates\"\n",
    "\n",
    "stages_sleep = pd.read_csv(os.path.join(stages_sleep_directory, f\"{sample_day}.csv\"))\n",
    "heart_rates_sleep = pd.read_csv(os.path.join(heart_rates_sleep_directory, f\"{sample_day}.csv\"))"
   ]
  },
  {
   "cell_type": "code",
   "execution_count": 8,
   "id": "1d5596eb-a723-4e2f-92e2-98432fdd4738",
   "metadata": {},
   "outputs": [
    {
     "data": {
      "text/html": [
       "<div>\n",
       "<style scoped>\n",
       "    .dataframe tbody tr th:only-of-type {\n",
       "        vertical-align: middle;\n",
       "    }\n",
       "\n",
       "    .dataframe tbody tr th {\n",
       "        vertical-align: top;\n",
       "    }\n",
       "\n",
       "    .dataframe thead th {\n",
       "        text-align: right;\n",
       "    }\n",
       "</style>\n",
       "<table border=\"1\" class=\"dataframe\">\n",
       "  <thead>\n",
       "    <tr style=\"text-align: right;\">\n",
       "      <th></th>\n",
       "      <th>start_time</th>\n",
       "      <th>end_time</th>\n",
       "      <th>sleep_stage</th>\n",
       "    </tr>\n",
       "  </thead>\n",
       "  <tbody>\n",
       "    <tr>\n",
       "      <th>0</th>\n",
       "      <td>00:59</td>\n",
       "      <td>01:03</td>\n",
       "      <td>Light</td>\n",
       "    </tr>\n",
       "    <tr>\n",
       "      <th>1</th>\n",
       "      <td>01:03</td>\n",
       "      <td>01:24</td>\n",
       "      <td>Deep</td>\n",
       "    </tr>\n",
       "    <tr>\n",
       "      <th>2</th>\n",
       "      <td>01:24</td>\n",
       "      <td>01:29</td>\n",
       "      <td>Light</td>\n",
       "    </tr>\n",
       "    <tr>\n",
       "      <th>3</th>\n",
       "      <td>01:29</td>\n",
       "      <td>01:35</td>\n",
       "      <td>Deep</td>\n",
       "    </tr>\n",
       "    <tr>\n",
       "      <th>4</th>\n",
       "      <td>01:35</td>\n",
       "      <td>02:41</td>\n",
       "      <td>Light</td>\n",
       "    </tr>\n",
       "  </tbody>\n",
       "</table>\n",
       "</div>"
      ],
      "text/plain": [
       "  start_time end_time sleep_stage\n",
       "0      00:59    01:03       Light\n",
       "1      01:03    01:24        Deep\n",
       "2      01:24    01:29       Light\n",
       "3      01:29    01:35        Deep\n",
       "4      01:35    02:41       Light"
      ]
     },
     "execution_count": 8,
     "metadata": {},
     "output_type": "execute_result"
    }
   ],
   "source": [
    "stages_sleep.head()"
   ]
  },
  {
   "cell_type": "code",
   "execution_count": 7,
   "id": "07c6fed6-dc64-4549-8d68-edd1734a0662",
   "metadata": {},
   "outputs": [
    {
     "data": {
      "text/html": [
       "<div>\n",
       "<style scoped>\n",
       "    .dataframe tbody tr th:only-of-type {\n",
       "        vertical-align: middle;\n",
       "    }\n",
       "\n",
       "    .dataframe tbody tr th {\n",
       "        vertical-align: top;\n",
       "    }\n",
       "\n",
       "    .dataframe thead th {\n",
       "        text-align: right;\n",
       "    }\n",
       "</style>\n",
       "<table border=\"1\" class=\"dataframe\">\n",
       "  <thead>\n",
       "    <tr style=\"text-align: right;\">\n",
       "      <th></th>\n",
       "      <th>timestamp</th>\n",
       "      <th>heart_rate</th>\n",
       "    </tr>\n",
       "  </thead>\n",
       "  <tbody>\n",
       "    <tr>\n",
       "      <th>0</th>\n",
       "      <td>54</td>\n",
       "      <td>00:58</td>\n",
       "    </tr>\n",
       "    <tr>\n",
       "      <th>1</th>\n",
       "      <td>53</td>\n",
       "      <td>01:00</td>\n",
       "    </tr>\n",
       "    <tr>\n",
       "      <th>2</th>\n",
       "      <td>53</td>\n",
       "      <td>01:02</td>\n",
       "    </tr>\n",
       "    <tr>\n",
       "      <th>3</th>\n",
       "      <td>54</td>\n",
       "      <td>01:04</td>\n",
       "    </tr>\n",
       "    <tr>\n",
       "      <th>4</th>\n",
       "      <td>54</td>\n",
       "      <td>01:06</td>\n",
       "    </tr>\n",
       "  </tbody>\n",
       "</table>\n",
       "</div>"
      ],
      "text/plain": [
       "   timestamp heart_rate\n",
       "0         54      00:58\n",
       "1         53      01:00\n",
       "2         53      01:02\n",
       "3         54      01:04\n",
       "4         54      01:06"
      ]
     },
     "execution_count": 7,
     "metadata": {},
     "output_type": "execute_result"
    }
   ],
   "source": [
    "heart_rates_sleep.head()"
   ]
  },
  {
   "cell_type": "markdown",
   "id": "7416846e-4c5a-429f-b569-7d6236ee6122",
   "metadata": {},
   "source": [
    "From this quick analysis, we can see that there was an error in data collection. \n",
    "`timestamp` column and `heart_rate` column are reversed."
   ]
  },
  {
   "cell_type": "markdown",
   "id": "ae8e6d34-2756-4567-929d-5aad24763f96",
   "metadata": {},
   "source": [
    "The goal is to obtain a unique dataset for each day that joins the two datasets. Let's see an example."
   ]
  },
  {
   "cell_type": "code",
   "execution_count": 10,
   "id": "0546db37-3662-4acf-b36a-f31daba94258",
   "metadata": {},
   "outputs": [
    {
     "data": {
      "text/html": [
       "<div>\n",
       "<style scoped>\n",
       "    .dataframe tbody tr th:only-of-type {\n",
       "        vertical-align: middle;\n",
       "    }\n",
       "\n",
       "    .dataframe tbody tr th {\n",
       "        vertical-align: top;\n",
       "    }\n",
       "\n",
       "    .dataframe thead th {\n",
       "        text-align: right;\n",
       "    }\n",
       "</style>\n",
       "<table border=\"1\" class=\"dataframe\">\n",
       "  <thead>\n",
       "    <tr style=\"text-align: right;\">\n",
       "      <th></th>\n",
       "      <th>timestamp</th>\n",
       "      <th>heart_rate</th>\n",
       "      <th>sleep_stage</th>\n",
       "    </tr>\n",
       "  </thead>\n",
       "  <tbody>\n",
       "    <tr>\n",
       "      <th>0</th>\n",
       "      <td>00:58</td>\n",
       "      <td>54</td>\n",
       "      <td>Deep</td>\n",
       "    </tr>\n",
       "    <tr>\n",
       "      <th>1</th>\n",
       "      <td>01:00</td>\n",
       "      <td>53</td>\n",
       "      <td>Deep</td>\n",
       "    </tr>\n",
       "    <tr>\n",
       "      <th>2</th>\n",
       "      <td>01:02</td>\n",
       "      <td>53</td>\n",
       "      <td>Deep</td>\n",
       "    </tr>\n",
       "    <tr>\n",
       "      <th>3</th>\n",
       "      <td>01:04</td>\n",
       "      <td>54</td>\n",
       "      <td>Deep</td>\n",
       "    </tr>\n",
       "    <tr>\n",
       "      <th>4</th>\n",
       "      <td>01:06</td>\n",
       "      <td>54</td>\n",
       "      <td>Light</td>\n",
       "    </tr>\n",
       "  </tbody>\n",
       "</table>\n",
       "</div>"
      ],
      "text/plain": [
       "  timestamp  heart_rate sleep_stage\n",
       "0     00:58          54        Deep\n",
       "1     01:00          53        Deep\n",
       "2     01:02          53        Deep\n",
       "3     01:04          54        Deep\n",
       "4     01:06          54       Light"
      ]
     },
     "execution_count": 10,
     "metadata": {},
     "output_type": "execute_result"
    }
   ],
   "source": [
    "data = {\n",
    "    'timestamp': ['00:58', '01:00', '01:02', '01:04', '01:06'],\n",
    "    'heart_rate': [54, 53, 53, 54, 54],\n",
    "    'sleep_stage': ['Deep', 'Deep', 'Deep', 'Deep', 'Light']\n",
    "}\n",
    "goal_df = pd.DataFrame(data)\n",
    "\n",
    "goal_df.head()"
   ]
  },
  {
   "cell_type": "markdown",
   "id": "87d2964b-6de0-49b3-8758-ac623830a870",
   "metadata": {},
   "source": [
    "Let's remove all the files that are not relevant to our analysis (e.g., '2025-01-07.csv')"
   ]
  },
  {
   "cell_type": "code",
   "execution_count": 19,
   "id": "c5bf6f8f-53f4-42e0-aa67-a3974ca53279",
   "metadata": {},
   "outputs": [],
   "source": [
    "def remove_not_relevant_files(directory):\n",
    "    for f in os.listdir(directory):\n",
    "        if f.endswith(\".csv\"):\n",
    "            date = f.split(\".\")[0]\n",
    "            year, month, day = int(date.split(\"-\")[0]), int(date.split(\"-\")[1]), int(date.split(\"-\")[2])\n",
    "            if year >= 2025 and month >= 1 and day > 6:\n",
    "                file_path = os.path.join(directory, f)\n",
    "                os.remove(file_path)\n",
    "                print(f\"File removed: {file_path}\")\n",
    "\n",
    "remove_not_relevant_files(stages_sleep_directory)\n",
    "remove_not_relevant_files(heart_rates_sleep_directory)"
   ]
  },
  {
   "cell_type": "markdown",
   "id": "e2da6ffe-f37c-4f9b-a643-34da9540bdf2",
   "metadata": {},
   "source": [
    "Fix the error in heart rate datasets. Reverse the columns (see above for more details about the error)."
   ]
  },
  {
   "cell_type": "code",
   "execution_count": 22,
   "id": "08c78e48-3692-44ea-a733-dde379449d2b",
   "metadata": {},
   "outputs": [
    {
     "name": "stdout",
     "output_type": "stream",
     "text": [
      "File saved successfully\n",
      "File saved successfully\n",
      "File saved successfully\n",
      "File saved successfully\n",
      "File saved successfully\n",
      "File saved successfully\n",
      "File saved successfully\n",
      "File saved successfully\n",
      "File saved successfully\n",
      "File saved successfully\n",
      "File saved successfully\n",
      "File saved successfully\n",
      "File saved successfully\n",
      "File saved successfully\n",
      "File saved successfully\n",
      "File saved successfully\n",
      "File saved successfully\n"
     ]
    }
   ],
   "source": [
    "def reverse_columns(directory):\n",
    "    for f in os.listdir(directory):\n",
    "        if f.endswith(\".csv\"):\n",
    "            file_path = os.path.join(directory, f)\n",
    "            df = pd.read_csv(file_path)\n",
    "\n",
    "            df = df.rename(columns={'timestamp': 'heart_rate', 'heart_rate': 'timestamp'})\n",
    "\n",
    "            df.to_csv(file_path, index=False)\n",
    "            print(\"File saved successfully\")\n",
    "\n",
    "reverse_columns(heart_rates_sleep_directory)"
   ]
  },
  {
   "cell_type": "markdown",
   "id": "3c4fbb7f-2ba5-4862-987b-4d2649ffba08",
   "metadata": {},
   "source": [
    "Verify if the error has been correctly fixed by picking up a datasets from `sleep/heart_rates` directory randomly."
   ]
  },
  {
   "cell_type": "code",
   "execution_count": 30,
   "id": "7e928efb-1a14-471c-b733-c92c55414c24",
   "metadata": {},
   "outputs": [
    {
     "data": {
      "text/html": [
       "<div>\n",
       "<style scoped>\n",
       "    .dataframe tbody tr th:only-of-type {\n",
       "        vertical-align: middle;\n",
       "    }\n",
       "\n",
       "    .dataframe tbody tr th {\n",
       "        vertical-align: top;\n",
       "    }\n",
       "\n",
       "    .dataframe thead th {\n",
       "        text-align: right;\n",
       "    }\n",
       "</style>\n",
       "<table border=\"1\" class=\"dataframe\">\n",
       "  <thead>\n",
       "    <tr style=\"text-align: right;\">\n",
       "      <th></th>\n",
       "      <th>heart_rate</th>\n",
       "      <th>timestamp</th>\n",
       "    </tr>\n",
       "  </thead>\n",
       "  <tbody>\n",
       "    <tr>\n",
       "      <th>0</th>\n",
       "      <td>60</td>\n",
       "      <td>00:10</td>\n",
       "    </tr>\n",
       "    <tr>\n",
       "      <th>1</th>\n",
       "      <td>58</td>\n",
       "      <td>00:12</td>\n",
       "    </tr>\n",
       "    <tr>\n",
       "      <th>2</th>\n",
       "      <td>58</td>\n",
       "      <td>00:14</td>\n",
       "    </tr>\n",
       "    <tr>\n",
       "      <th>3</th>\n",
       "      <td>59</td>\n",
       "      <td>00:16</td>\n",
       "    </tr>\n",
       "    <tr>\n",
       "      <th>4</th>\n",
       "      <td>60</td>\n",
       "      <td>00:18</td>\n",
       "    </tr>\n",
       "  </tbody>\n",
       "</table>\n",
       "</div>"
      ],
      "text/plain": [
       "   heart_rate timestamp\n",
       "0          60     00:10\n",
       "1          58     00:12\n",
       "2          58     00:14\n",
       "3          59     00:16\n",
       "4          60     00:18"
      ]
     },
     "execution_count": 30,
     "metadata": {},
     "output_type": "execute_result"
    }
   ],
   "source": [
    "files = [os.path.join(heart_rates_sleep_directory, f) for f in os.listdir(heart_rates_sleep_directory)]\n",
    "\n",
    "random_file = random.choice(files)\n",
    "\n",
    "random_df = pd.read_csv(random_file)\n",
    "random_df.head()"
   ]
  },
  {
   "cell_type": "markdown",
   "id": "292e9c37-67ff-41f0-bf98-404e7677611c",
   "metadata": {},
   "source": [
    "The error has been successfully fixed."
   ]
  },
  {
   "cell_type": "code",
   "execution_count": null,
   "id": "d99ceb18-9ef1-4a52-bc52-ac7bd7dc0c28",
   "metadata": {},
   "outputs": [],
   "source": []
  }
 ],
 "metadata": {
  "kernelspec": {
   "display_name": "Garmin",
   "language": "python",
   "name": "garminhealthinsights"
  },
  "language_info": {
   "codemirror_mode": {
    "name": "ipython",
    "version": 3
   },
   "file_extension": ".py",
   "mimetype": "text/x-python",
   "name": "python",
   "nbconvert_exporter": "python",
   "pygments_lexer": "ipython3",
   "version": "3.13.1"
  }
 },
 "nbformat": 4,
 "nbformat_minor": 5
}
