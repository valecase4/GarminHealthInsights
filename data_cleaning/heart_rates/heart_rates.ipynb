{
 "cells": [
  {
   "cell_type": "markdown",
   "id": "6af10f5a-e174-42fb-9335-16fb93144ca2",
   "metadata": {},
   "source": [
    "# Preliminary Data Exploration\n",
    "### Heart Rates Dataset"
   ]
  },
  {
   "cell_type": "markdown",
   "id": "60c70f42-b22d-494f-b1e3-fc4a8a55ef99",
   "metadata": {},
   "source": [
    "##### 1. Verify the Structure"
   ]
  },
  {
   "cell_type": "code",
   "execution_count": 1,
   "id": "9a656f9f-b7c3-4e7c-85ec-d7d8bcc9bc56",
   "metadata": {},
   "outputs": [],
   "source": [
    "import pandas as pd\n",
    "import matplotlib.pyplot as plt\n",
    "import os"
   ]
  },
  {
   "cell_type": "code",
   "execution_count": 24,
   "id": "c3ad2bc2-6484-4a96-a009-f25c194a3165",
   "metadata": {},
   "outputs": [
    {
     "name": "stdout",
     "output_type": "stream",
     "text": [
      "Number of files: 17\n"
     ]
    }
   ],
   "source": [
    "# load all files with a date less or equal to 2025-01-06\n",
    "directory = \"../../data/raw/heart_rates\"\n",
    "limit_date = pd.to_datetime(\"2025-01-06\", format=\"%Y-%m-%d\")\n",
    "filtered_files = [f for f in os.listdir(directory) if (f.endswith(\".csv\") and pd.to_datetime(f.split(\".\")[0], format=\"%Y-%m-%d\") <= limit_date)]\n",
    "\n",
    "files = [\n",
    "    os.path.join(directory, f) for f in filtered_files\n",
    "]\n",
    "\n",
    "\n",
    "print(f\"Number of files: {len(files)}\")"
   ]
  },
  {
   "cell_type": "code",
   "execution_count": 25,
   "id": "2d66932c-e15a-4a23-ae9e-c79a12aa54f8",
   "metadata": {},
   "outputs": [
    {
     "name": "stdout",
     "output_type": "stream",
     "text": [
      "Sample file: ../../data/raw/heart_rates\\2024-12-24.csv\n"
     ]
    }
   ],
   "source": [
    "# load a sample file\n",
    "sample_file = files[3]\n",
    "print(f\"Sample file: {sample_file}\")"
   ]
  },
  {
   "cell_type": "code",
   "execution_count": 26,
   "id": "5ef0aa56-822c-4b35-a9a5-cdd692c96df0",
   "metadata": {},
   "outputs": [
    {
     "name": "stdout",
     "output_type": "stream",
     "text": [
      "Sample file structure:\n",
      "<class 'pandas.core.frame.DataFrame'>\n",
      "RangeIndex: 720 entries, 0 to 719\n",
      "Data columns (total 2 columns):\n",
      " #   Column      Non-Null Count  Dtype \n",
      "---  ------      --------------  ----- \n",
      " 0   timestamp   720 non-null    object\n",
      " 1   heart_rate  720 non-null    int64 \n",
      "dtypes: int64(1), object(1)\n",
      "memory usage: 11.4+ KB\n",
      "None\n",
      "\n",
      "First rows of the sample file:\n"
     ]
    },
    {
     "data": {
      "text/html": [
       "<div>\n",
       "<style scoped>\n",
       "    .dataframe tbody tr th:only-of-type {\n",
       "        vertical-align: middle;\n",
       "    }\n",
       "\n",
       "    .dataframe tbody tr th {\n",
       "        vertical-align: top;\n",
       "    }\n",
       "\n",
       "    .dataframe thead th {\n",
       "        text-align: right;\n",
       "    }\n",
       "</style>\n",
       "<table border=\"1\" class=\"dataframe\">\n",
       "  <thead>\n",
       "    <tr style=\"text-align: right;\">\n",
       "      <th></th>\n",
       "      <th>timestamp</th>\n",
       "      <th>heart_rate</th>\n",
       "    </tr>\n",
       "  </thead>\n",
       "  <tbody>\n",
       "    <tr>\n",
       "      <th>0</th>\n",
       "      <td>00:00</td>\n",
       "      <td>75</td>\n",
       "    </tr>\n",
       "    <tr>\n",
       "      <th>1</th>\n",
       "      <td>00:02</td>\n",
       "      <td>75</td>\n",
       "    </tr>\n",
       "    <tr>\n",
       "      <th>2</th>\n",
       "      <td>00:04</td>\n",
       "      <td>66</td>\n",
       "    </tr>\n",
       "    <tr>\n",
       "      <th>3</th>\n",
       "      <td>00:06</td>\n",
       "      <td>75</td>\n",
       "    </tr>\n",
       "    <tr>\n",
       "      <th>4</th>\n",
       "      <td>00:08</td>\n",
       "      <td>83</td>\n",
       "    </tr>\n",
       "  </tbody>\n",
       "</table>\n",
       "</div>"
      ],
      "text/plain": [
       "  timestamp  heart_rate\n",
       "0     00:00          75\n",
       "1     00:02          75\n",
       "2     00:04          66\n",
       "3     00:06          75\n",
       "4     00:08          83"
      ]
     },
     "execution_count": 26,
     "metadata": {},
     "output_type": "execute_result"
    }
   ],
   "source": [
    "sample_df = pd.read_csv(sample_file)\n",
    "\n",
    "print(\"Sample file structure:\")\n",
    "print(sample_df.info())\n",
    "print(\"\\nFirst rows of the sample file:\")\n",
    "sample_df.head()"
   ]
  },
  {
   "cell_type": "code",
   "execution_count": 27,
   "id": "0b76496a-0be7-4435-b0e9-85225b84f832",
   "metadata": {},
   "outputs": [
    {
     "name": "stdout",
     "output_type": "stream",
     "text": [
      "All files are consistent in structure: True\n"
     ]
    }
   ],
   "source": [
    "# extend the structure verify to all datasets\n",
    "all_files_valid = True\n",
    "\n",
    "for file in files:\n",
    "    df = pd.read_csv(file)\n",
    "\n",
    "    if not set(['timestamp', 'heart_rate']).issubset(df.columns):\n",
    "        print(f\"Missing columns in file: {file}\")\n",
    "        all_files_valid = False\n",
    "\n",
    "print(f\"All files are consistent in structure: {all_files_valid}\")"
   ]
  },
  {
   "cell_type": "code",
   "execution_count": null,
   "id": "65a827a4-80be-4f56-8ac6-3c1c72ed8c5d",
   "metadata": {},
   "outputs": [],
   "source": []
  }
 ],
 "metadata": {
  "kernelspec": {
   "display_name": "Garmin",
   "language": "python",
   "name": "garminhealthinsights"
  },
  "language_info": {
   "codemirror_mode": {
    "name": "ipython",
    "version": 3
   },
   "file_extension": ".py",
   "mimetype": "text/x-python",
   "name": "python",
   "nbconvert_exporter": "python",
   "pygments_lexer": "ipython3",
   "version": "3.13.1"
  }
 },
 "nbformat": 4,
 "nbformat_minor": 5
}
