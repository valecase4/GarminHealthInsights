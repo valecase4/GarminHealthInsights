{
 "cells": [
  {
   "cell_type": "markdown",
   "id": "e4ee7c4f-b7e5-451a-9976-95c446c563ea",
   "metadata": {},
   "source": [
    "# Data Analysis: Answer the Key Questions"
   ]
  },
  {
   "cell_type": "code",
   "execution_count": 51,
   "id": "6cc99928-43c3-4f9c-beee-2b9eed40e921",
   "metadata": {},
   "outputs": [],
   "source": [
    "import pandas as pd\n",
    "import matplotlib.pyplot as plt\n",
    "import os"
   ]
  },
  {
   "cell_type": "markdown",
   "id": "36882f90-e123-4b63-9b93-455beee66d5d",
   "metadata": {},
   "source": [
    "#### Key Question 1) \n",
    "#### What are the average, minimum, and maximum heart rate values on a daily basis?"
   ]
  },
  {
   "cell_type": "markdown",
   "id": "dc659ee9-e66b-49e9-8a35-6f8ddfccbddb",
   "metadata": {},
   "source": [
    "1.1) Calculate **global** values of: *minimum heart rate*, *average heart rate*, *maximum heart rate*. <br>\n",
    "\n",
    "In this section, we'll calculate:\n",
    "\n",
    "- The lowest heart rate value ever recorded in the given time range.\n",
    "- The average heart rate value recorded\n",
    "- The highest heart rate value ever recorded in the given time range."
   ]
  },
  {
   "cell_type": "markdown",
   "id": "0076a88f-4e4d-472e-bd7c-997657724035",
   "metadata": {},
   "source": [
    "First, merge all the datasets about heart rates into one dataset"
   ]
  },
  {
   "cell_type": "code",
   "execution_count": 20,
   "id": "149cfda8-0a6d-48ec-bd03-6f525ed8eb46",
   "metadata": {},
   "outputs": [],
   "source": [
    "def merge_daily_datasets(folder_path):\n",
    "    \"\"\"\n",
    "    Merge all the daily datasets into a single dataframe.\n",
    "\n",
    "    Args:\n",
    "        folder_path (str): Path to the folder containing all the daily datasets.\n",
    "    Returns:\n",
    "        pd.DataFrame: Complete merged Dataset\n",
    "    \"\"\"\n",
    "    all_files = [os.path.join(folder_path, f) for f in os.listdir(folder_path) if f.endswith(\".csv\")]\n",
    "    dfs = []\n",
    "\n",
    "    for f in all_files:\n",
    "        date = os.path.basename(f).replace(\".csv\", \"\")\n",
    "        df = pd.read_csv(f)\n",
    "        df['date'] = pd.to_datetime(date)\n",
    "        dfs.append(df)\n",
    "        \n",
    "    combined_df = pd.concat(dfs, ignore_index=True)\n",
    "    return combined_df"
   ]
  },
  {
   "cell_type": "code",
   "execution_count": 21,
   "id": "f853efa8-a249-4334-bf72-059f984ffdd4",
   "metadata": {},
   "outputs": [
    {
     "data": {
      "text/html": [
       "<div>\n",
       "<style scoped>\n",
       "    .dataframe tbody tr th:only-of-type {\n",
       "        vertical-align: middle;\n",
       "    }\n",
       "\n",
       "    .dataframe tbody tr th {\n",
       "        vertical-align: top;\n",
       "    }\n",
       "\n",
       "    .dataframe thead th {\n",
       "        text-align: right;\n",
       "    }\n",
       "</style>\n",
       "<table border=\"1\" class=\"dataframe\">\n",
       "  <thead>\n",
       "    <tr style=\"text-align: right;\">\n",
       "      <th></th>\n",
       "      <th>timestamp</th>\n",
       "      <th>heart_rate</th>\n",
       "      <th>date</th>\n",
       "    </tr>\n",
       "  </thead>\n",
       "  <tbody>\n",
       "    <tr>\n",
       "      <th>0</th>\n",
       "      <td>14:58</td>\n",
       "      <td>69.0</td>\n",
       "      <td>2024-12-21</td>\n",
       "    </tr>\n",
       "    <tr>\n",
       "      <th>1</th>\n",
       "      <td>15:00</td>\n",
       "      <td>70.0</td>\n",
       "      <td>2024-12-21</td>\n",
       "    </tr>\n",
       "    <tr>\n",
       "      <th>2</th>\n",
       "      <td>15:02</td>\n",
       "      <td>66.0</td>\n",
       "      <td>2024-12-21</td>\n",
       "    </tr>\n",
       "    <tr>\n",
       "      <th>3</th>\n",
       "      <td>15:04</td>\n",
       "      <td>71.0</td>\n",
       "      <td>2024-12-21</td>\n",
       "    </tr>\n",
       "    <tr>\n",
       "      <th>4</th>\n",
       "      <td>15:06</td>\n",
       "      <td>75.0</td>\n",
       "      <td>2024-12-21</td>\n",
       "    </tr>\n",
       "  </tbody>\n",
       "</table>\n",
       "</div>"
      ],
      "text/plain": [
       "  timestamp  heart_rate       date\n",
       "0     14:58        69.0 2024-12-21\n",
       "1     15:00        70.0 2024-12-21\n",
       "2     15:02        66.0 2024-12-21\n",
       "3     15:04        71.0 2024-12-21\n",
       "4     15:06        75.0 2024-12-21"
      ]
     },
     "execution_count": 21,
     "metadata": {},
     "output_type": "execute_result"
    }
   ],
   "source": [
    "heart_rates_directory = \"data/cleaned/heart_rates\"\n",
    "\n",
    "heart_rates_df = merge_daily_datasets(heart_rates_directory)\n",
    "\n",
    "heart_rates_df.head()"
   ]
  },
  {
   "cell_type": "code",
   "execution_count": 22,
   "id": "6058f9c0-22a3-4bb7-8085-2adbd2eb249d",
   "metadata": {},
   "outputs": [
    {
     "name": "stdout",
     "output_type": "stream",
     "text": [
      "<class 'pandas.core.frame.DataFrame'>\n",
      "RangeIndex: 11790 entries, 0 to 11789\n",
      "Data columns (total 3 columns):\n",
      " #   Column      Non-Null Count  Dtype         \n",
      "---  ------      --------------  -----         \n",
      " 0   timestamp   11790 non-null  object        \n",
      " 1   heart_rate  11773 non-null  float64       \n",
      " 2   date        11790 non-null  datetime64[ns]\n",
      "dtypes: datetime64[ns](1), float64(1), object(1)\n",
      "memory usage: 276.5+ KB\n"
     ]
    }
   ],
   "source": [
    "heart_rates_df.info()"
   ]
  },
  {
   "cell_type": "code",
   "execution_count": 23,
   "id": "845eb18f-e160-4e7d-92bf-7ccfb00db812",
   "metadata": {},
   "outputs": [],
   "source": [
    "def calculate_daily_hr_stats(df):\n",
    "    \"\"\"\n",
    "    Calculates average, minimum and maximum heart rate on a daily basis.\n",
    "    \n",
    "    Args:\n",
    "        complete_df (pd.DataFrame): Complete merged Dataset\n",
    "    \n",
    "    Returns:\n",
    "        dict: Dictionary storing the global values of minimum, average and maximum heart rate.\n",
    "    \"\"\"\n",
    "    stats = {\n",
    "        \"minimum\": int(df['heart_rate'].min()),\n",
    "        \"average\": int(df['heart_rate'].mean()),\n",
    "        \"maximum\": int(df['heart_rate'].max())\n",
    "    }\n",
    "    return stats"
   ]
  },
  {
   "cell_type": "code",
   "execution_count": 24,
   "id": "bc0c959e-ff43-47d0-b555-4a6d8168fcff",
   "metadata": {},
   "outputs": [
    {
     "name": "stdout",
     "output_type": "stream",
     "text": [
      "minimum --> 36 bpm.\n",
      "average --> 64 bpm.\n",
      "maximum --> 187 bpm.\n"
     ]
    }
   ],
   "source": [
    "global_values = calculate_daily_hr_stats(heart_rates_df)\n",
    "\n",
    "for k, v in global_values.items():\n",
    "    print(k + ' --> ' + str(v) + ' bpm.')"
   ]
  },
  {
   "cell_type": "markdown",
   "id": "c64bffa7-d3a0-4117-8cf8-0fbf9b28a621",
   "metadata": {},
   "source": [
    "1.2) View the minimum, average and maximum heart rate values on a daily basis for the last *n* days."
   ]
  },
  {
   "cell_type": "code",
   "execution_count": 78,
   "id": "a78295c4-458b-4c95-aff7-328dec8b704b",
   "metadata": {},
   "outputs": [],
   "source": [
    "import matplotlib.pyplot as plt\n",
    "import pandas as pd\n",
    "\n",
    "def plot_hr_values(df, n, show_minimum=True, show_average=True, show_maximum=True):\n",
    "    \"\"\"\n",
    "    Displays, for the last n days, dynamic bars based on the parameters \n",
    "    show_minimum, show_average, and show_maximum.\n",
    "\n",
    "    Args:\n",
    "        df (pd.DataFrame): DataFrame containing 'date' and 'heart_rate' columns.\n",
    "        n (int): Number of days to display.\n",
    "        show_minimum (bool): If True, show bars for the minimum heart rate values.\n",
    "        show_average (bool): If True, show bars for the average heart rate values.\n",
    "        show_maximum (bool): If True, show bars for the maximum heart rate values.\n",
    "    \"\"\"\n",
    "    \n",
    "    grouped = df.groupby('date')['heart_rate'].agg(['min', 'mean', 'max']).reset_index()\n",
    "    \n",
    "    grouped = grouped.tail(n)\n",
    "    \n",
    "    plt.figure(figsize=(10, 6))\n",
    "    bar_width = 0.25\n",
    "    x = range(len(grouped))\n",
    "\n",
    "    offset = 0\n",
    "\n",
    "    if show_minimum:\n",
    "        plt.bar([p + offset * bar_width for p in x], grouped['min'], width=bar_width, label='Min HR', color='#FFE1A8')\n",
    "        offset += 1\n",
    "    if show_average:\n",
    "        plt.bar([p + offset * bar_width for p in x], grouped['mean'], width=bar_width, label='Mean HR', color='#E26D5C')\n",
    "        offset += 1\n",
    "    if show_maximum:\n",
    "        plt.bar([p + offset * bar_width for p in x], grouped['max'], width=bar_width, label='Max HR', color='#472D30')\n",
    "        offset += 1\n",
    "    \n",
    "    plt.xlabel('Date')\n",
    "    plt.ylabel('Heart Rate')\n",
    "    plt.title(f'Heart Rate Stats for Last {n} Days')\n",
    "    plt.xticks([p + (offset - 1) * bar_width / 2 for p in x], grouped['date'].dt.strftime('%Y-%m-%d'), rotation=45)\n",
    "    plt.yticks([i for i in range(0, 220, 10)])\n",
    "    plt.legend()\n",
    "    plt.tight_layout()\n",
    "\n",
    "    plt.show()"
   ]
  },
  {
   "cell_type": "code",
   "execution_count": 79,
   "id": "4a6a94f0-740e-43c1-98d9-c1a6a0439984",
   "metadata": {},
   "outputs": [
    {
     "data": {
      "image/png": "[encoded data removed]",
      "text/plain": [
       "<Figure size 1000x600 with 1 Axes>"
      ]
     },
     "metadata": {},
     "output_type": "display_data"
    }
   ],
   "source": [
    "plot_hr_values(heart_rates_df, 15, show_minimum=True, show_average=True, show_maximum=True)"
   ]
  }
 ],
 "metadata": {
  "kernelspec": {
   "display_name": "Garmin",
   "language": "python",
   "name": "garminhealthinsights"
  },
  "language_info": {
   "codemirror_mode": {
    "name": "ipython",
    "version": 3
   },
   "file_extension": ".py",
   "mimetype": "text/x-python",
   "name": "python",
   "nbconvert_exporter": "python",
   "pygments_lexer": "ipython3",
   "version": "3.13.1"
  }
 },
 "nbformat": 4,
 "nbformat_minor": 5
}
