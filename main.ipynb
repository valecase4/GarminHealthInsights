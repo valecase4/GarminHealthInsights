{
 "cells": [
  {
   "cell_type": "code",
   "execution_count": null,
   "id": "70b8d560-f72d-4eec-b755-5780c8479425",
   "metadata": {},
   "outputs": [],
   "source": []
  }
 ],
 "metadata": {
  "kernelspec": {
   "display_name": "",
   "name": ""
  },
  "language_info": {
   "name": ""
  }
 },
 "nbformat": 4,
 "nbformat_minor": 5
}
